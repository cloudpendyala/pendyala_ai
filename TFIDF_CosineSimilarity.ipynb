{
  "nbformat": 4,
  "nbformat_minor": 0,
  "metadata": {
    "colab": {
      "provenance": [],
      "authorship_tag": "ABX9TyPGgQkSbU3sxtlcywiX/q7A",
      "include_colab_link": true
    },
    "kernelspec": {
      "name": "python3",
      "display_name": "Python 3"
    },
    "language_info": {
      "name": "python"
    }
  },
  "cells": [
    {
      "cell_type": "markdown",
      "metadata": {
        "id": "view-in-github",
        "colab_type": "text"
      },
      "source": [
        "<a href=\"https://colab.research.google.com/github/cloudpendyala/pendyala_ai/blob/main/TFIDF_CosineSimilarity.ipynb\" target=\"_parent\"><img src=\"https://colab.research.google.com/assets/colab-badge.svg\" alt=\"Open In Colab\"/></a>"
      ]
    },
    {
      "cell_type": "code",
      "source": [
        "from sklearn.feature_extraction.text import TfidfVectorizer\n",
        "from sklearn.metrics.pairwise import cosine_similarity\n",
        "\n",
        "# Create a corpus\n",
        "def create_corpus():\n",
        "    corpus = [\n",
        "        \"The quick brown fox jumps over the lazy dog.\",\n",
        "        \"Never jump over the lazy dog quickly.\",\n",
        "        \"A quick brown dog outpaces a quick fox.\"\n",
        "    ]\n",
        "    return corpus\n",
        "\n",
        "# Compute TF-IDF for the corpus\n",
        "def compute_tfidf(corpus):\n",
        "    vectorizer = TfidfVectorizer()\n",
        "    X = vectorizer.fit_transform(corpus)\n",
        "    return X, vectorizer\n",
        "\n",
        "# Calculate Cosine Similarity\n",
        "def calculate_cosine_similarity(X):\n",
        "    similarity_matrix = cosine_similarity(X)\n",
        "    return similarity_matrix\n",
        "\n",
        "# Perform Similarity Search\n",
        "def similarity_search(query, corpus, vectorizer):\n",
        "    query_vec = vectorizer.transform([query])\n",
        "    similarity_scores = cosine_similarity(query_vec, vectorizer.transform(corpus)).flatten()\n",
        "    ranked_indices = similarity_scores.argsort()[::-1]\n",
        "    return ranked_indices, similarity_scores, query_vec\n",
        "\n",
        "# Display TF-IDF weights for the query terms\n",
        "def display_query_tfidf_weights(query, query_vec, vectorizer):\n",
        "    query_terms = vectorizer.get_feature_names_out()\n",
        "    tfidf_scores = query_vec.toarray().flatten()\n",
        "    query_weights = {term: tfidf_scores[idx] for idx, term in enumerate(query_terms) if tfidf_scores[idx] > 0}\n",
        "    return query_weights\n",
        "\n",
        "# Example usage:\n",
        "corpus = create_corpus()\n",
        "X, vectorizer = compute_tfidf(corpus)\n",
        "similarity_matrix = calculate_cosine_similarity(X)\n",
        "\n",
        "query = \"quick fox\"\n",
        "ranked_indices, similarity_scores, query_vec = similarity_search(query, corpus, vectorizer)\n",
        "query_weights = display_query_tfidf_weights(query, query_vec, vectorizer)\n",
        "\n",
        "print(\"Query TF-IDF Weights:\")\n",
        "for term, weight in query_weights.items():\n",
        "    print(f\"Term: {term}, Weight: {weight}\")\n",
        "\n",
        "print(\"\\nSimilarity Search Results:\")\n",
        "for idx in ranked_indices:\n",
        "    print(f\"Document: {corpus[idx]}, Similarity Score: {similarity_scores[idx]}\")\n"
      ],
      "metadata": {
        "colab": {
          "base_uri": "https://localhost:8080/"
        },
        "id": "WHvo17pOLuU6",
        "outputId": "875993ac-05d1-4a51-89c8-ae97065eb8f6"
      },
      "execution_count": 9,
      "outputs": [
        {
          "output_type": "stream",
          "name": "stdout",
          "text": [
            "Query TF-IDF Weights:\n",
            "Term: fox, Weight: 0.7071067811865476\n",
            "Term: quick, Weight: 0.7071067811865476\n",
            "\n",
            "Similarity Search Results:\n",
            "Document: A quick brown dog outpaces a quick fox., Similarity Score: 0.7349057283930712\n",
            "Document: The quick brown fox jumps over the lazy dog., Similarity Score: 0.4201087427318642\n",
            "Document: Never jump over the lazy dog quickly., Similarity Score: 0.0\n"
          ]
        }
      ]
    },
    {
      "cell_type": "code",
      "source": [],
      "metadata": {
        "id": "A40_XHKTLxaX"
      },
      "execution_count": null,
      "outputs": []
    }
  ]
}